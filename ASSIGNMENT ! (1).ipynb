{
 "cells": [
  {
   "cell_type": "code",
   "execution_count": 1,
   "id": "c6bd3cc5",
   "metadata": {},
   "outputs": [
    {
     "name": "stdout",
     "output_type": "stream",
     "text": [
      "2\n"
     ]
    }
   ],
   "source": [
    "def find_largest_difference(arr):\n",
    "    if not arr:\n",
    "        return None  # Return None for empty arrays\n",
    "\n",
    "    min_element = arr[0]  # Initialize the minimum element to the first element\n",
    "    max_difference = 0    # Initialize the maximum difference to 0\n",
    "\n",
    "    for num in arr:\n",
    "        if num < min_element:\n",
    "            min_element = num\n",
    "        elif num - min_element > max_difference:\n",
    "            max_difference = num - min_element\n",
    "\n",
    "    return max_difference\n",
    "\n",
    "# Example usage:\n",
    "arr = [7, 9, 5, 6, 3, 2]\n",
    "result = find_largest_difference(arr)\n",
    "print(result)  # Output: 2"
   ]
  },
  {
   "cell_type": "code",
   "execution_count": null,
   "id": "c6ed0e2b",
   "metadata": {},
   "outputs": [],
   "source": []
  }
 ],
 "metadata": {
  "kernelspec": {
   "display_name": "Python 3 (ipykernel)",
   "language": "python",
   "name": "python3"
  },
  "language_info": {
   "codemirror_mode": {
    "name": "ipython",
    "version": 3
   },
   "file_extension": ".py",
   "mimetype": "text/x-python",
   "name": "python",
   "nbconvert_exporter": "python",
   "pygments_lexer": "ipython3",
   "version": "3.11.3"
  }
 },
 "nbformat": 4,
 "nbformat_minor": 5
}
